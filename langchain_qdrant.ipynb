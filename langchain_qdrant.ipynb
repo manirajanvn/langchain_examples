{
 "cells": [
  {
   "cell_type": "code",
   "execution_count": 1,
   "id": "d153a958-e353-499f-8825-86f9f773b8f6",
   "metadata": {},
   "outputs": [],
   "source": [
    "from uuid import uuid4\n",
    "import os\n",
    "\n",
    "from langchain_community.document_loaders import PyPDFLoader\n",
    "from langchain.text_splitter import RecursiveCharacterTextSplitter\n",
    "from langchain_openai import OpenAIEmbeddings, ChatOpenAI\n",
    "from langchain.vectorstores import Qdrant\n",
    "from langchain import hub\n",
    "from langchain.chains.combine_documents import create_stuff_documents_chain\n",
    "from langchain.prompts import ChatPromptTemplate\n",
    "from langchain.callbacks import StdOutCallbackHandler\n",
    "from qdrant_client import QdrantClient\n",
    "from qdrant_client.models import Distance, VectorParams\n",
    "from qdrant_client.models import PointStruct\n",
    "from langchain_community.llms import Ollama\n",
    "from langchain_community.embeddings import OllamaEmbeddings\n",
    "from langchain.chains import create_retrieval_chain\n",
    "from langchain_qdrant import Qdrant"
   ]
  },
  {
   "cell_type": "code",
   "execution_count": 2,
   "id": "2ff6e8c0-417b-4357-9b89-170189767d32",
   "metadata": {},
   "outputs": [],
   "source": [
    "MODEL = \"phi3:14b\"\n",
    "model = Ollama(model=MODEL)\n",
    "embeddings = OllamaEmbeddings(model=MODEL)"
   ]
  },
  {
   "cell_type": "code",
   "execution_count": 3,
   "id": "908db4ee-19e9-4ba5-bc06-6fe2ef98ee08",
   "metadata": {},
   "outputs": [],
   "source": [
    "\n",
    "loader = PyPDFLoader(\"ros2.pdf\")\n",
    "text_splitter = RecursiveCharacterTextSplitter(chunk_size=512, chunk_overlap=50)\n",
    "document = loader.load_and_split(text_splitter)"
   ]
  },
  {
   "cell_type": "code",
   "execution_count": 4,
   "id": "0a161171-f75d-40b6-9ee5-e3c97563f52a",
   "metadata": {},
   "outputs": [
    {
     "data": {
      "text/plain": [
       "Document(page_content='ROS 2 on aChip , Achieving Brain-Like Speeds and\\nEfficiency in Robotic Networking\\nVíctor Mayoral-Vilches, Juan Manuel Reina-Muñoz,\\nMartiño Crespo Álvarez and David Mayoral-Vilches\\nAcceleration Robotics\\ncontact@accelerationrobotics.com\\nAbstract\\nThe Robot Operating System (ROS) pubsub model played a pivotal role in developing sophisticated\\nrobotic applications. However, the complexities and real-time demands of modern robotics necessitate', metadata={'source': 'ros2.pdf', 'page': 0})"
      ]
     },
     "execution_count": 4,
     "metadata": {},
     "output_type": "execute_result"
    }
   ],
   "source": [
    "document[0]\n"
   ]
  },
  {
   "cell_type": "code",
   "execution_count": 5,
   "id": "681b1752-e0e2-43f5-819b-a919bc771ed1",
   "metadata": {},
   "outputs": [
    {
     "data": {
      "text/plain": [
       "87"
      ]
     },
     "execution_count": 5,
     "metadata": {},
     "output_type": "execute_result"
    }
   ],
   "source": [
    "len(document)\n"
   ]
  },
  {
   "cell_type": "code",
   "execution_count": 6,
   "id": "2651b693-afc8-4c32-8c67-652021cfee12",
   "metadata": {},
   "outputs": [],
   "source": [
    "from qdrant_client import QdrantClient\n",
    "client = QdrantClient(\"localhost\", port= 6333)"
   ]
  },
  {
   "cell_type": "code",
   "execution_count": 7,
   "id": "14c49ced-5e04-4b19-b945-8b729727aef2",
   "metadata": {},
   "outputs": [
    {
     "data": {
      "text/plain": [
       "True"
      ]
     },
     "execution_count": 7,
     "metadata": {},
     "output_type": "execute_result"
    }
   ],
   "source": [
    "client.delete_collection(collection_name= \"ros2\")\n",
    "#client.add(collection_name= \"ros2\", documents= document, ids= ids)"
   ]
  },
  {
   "cell_type": "code",
   "execution_count": 8,
   "id": "450ae3ab-f33b-4363-b217-a0ba92ae9c10",
   "metadata": {},
   "outputs": [
    {
     "data": {
      "text/plain": [
       "True"
      ]
     },
     "execution_count": 8,
     "metadata": {},
     "output_type": "execute_result"
    }
   ],
   "source": [
    "client.create_collection(\n",
    "    collection_name=\"ros2\",\n",
    "    vectors_config={\n",
    "        \"content\": VectorParams(size=5120, distance=Distance.COSINE)\n",
    "        }\n",
    "    )"
   ]
  },
  {
   "cell_type": "code",
   "execution_count": 9,
   "id": "9b74704e-e49b-47b6-ad96-f126bb794277",
   "metadata": {},
   "outputs": [],
   "source": [
    "def chunked_metadata(data, client=client, collection_name=\"ros2\"):\n",
    "\n",
    "    chunked_metadata = []\n",
    "\n",
    "    for item in data:\n",
    "\n",
    "      id = str(uuid4())\n",
    "      content = item.page_content\n",
    "      source = item.metadata[\"source\"]\n",
    "      page = item.metadata[\"page\"]\n",
    "\n",
    "      content_vector = embeddings.embed_documents([content])[0]\n",
    "      vector_dict = {\"content\": content_vector}\n",
    "\n",
    "      payload = {\n",
    "           \"page_content\": content,\n",
    "           \"metadata\": {\n",
    "                        \"id\": id,\n",
    "                        \"page_content\": content,\n",
    "                        \"source\": source,\n",
    "                        \"page\": page,\n",
    "                        }\n",
    "            }\n",
    "\n",
    "\n",
    "      metadata = PointStruct(id=id, vector=vector_dict, payload=payload)\n",
    "      chunked_metadata.append(metadata)\n",
    "\n",
    "    client.upsert(\n",
    "                  collection_name=collection_name,\n",
    "                  wait=True,\n",
    "                  points=chunked_metadata)"
   ]
  },
  {
   "cell_type": "code",
   "execution_count": 10,
   "id": "8be1b0f5-db37-4ada-bfb0-3c3008bd0e30",
   "metadata": {},
   "outputs": [],
   "source": [
    "chunked_metadata(document[:10])\n"
   ]
  },
  {
   "cell_type": "code",
   "execution_count": 11,
   "id": "72b4f27e-5f34-44e5-8e38-55969832d682",
   "metadata": {},
   "outputs": [
    {
     "data": {
      "text/plain": [
       "CollectionsResponse(collections=[CollectionDescription(name='customer_service'), CollectionDescription(name='adidas_products'), CollectionDescription(name='sentences'), CollectionDescription(name='ros2')])"
      ]
     },
     "execution_count": 11,
     "metadata": {},
     "output_type": "execute_result"
    }
   ],
   "source": [
    "client.get_collections()\n"
   ]
  },
  {
   "cell_type": "code",
   "execution_count": 12,
   "id": "a6999fc8-8325-41bd-be90-7bd78699d932",
   "metadata": {},
   "outputs": [
    {
     "name": "stdout",
     "output_type": "stream",
     "text": [
      "Points: 10 \n"
     ]
    }
   ],
   "source": [
    "ros_collection = client.get_collection(\"ros2\")\n",
    "\n",
    "print(f\"Points: {ros_collection.points_count} \")"
   ]
  },
  {
   "cell_type": "code",
   "execution_count": 13,
   "id": "85e49dbc-78eb-4982-945c-379f2b9c689c",
   "metadata": {},
   "outputs": [
    {
     "data": {
      "text/plain": [
       "[ScoredPoint(id='51573156-5685-4353-a381-d597f73406dc', version=0, score=0.88135284, payload={'page_content': 'by more than 500 ×when compared to traditional ROS 2 software implementations on modern CPUs.\\nAdditionally, it dramatically reduces maximum latency in ROS 2 networking communication by more\\nthan 30,000 ×. In situations of peak latency, our design guarantees an isochronous response within 11\\nmicroseconds, a stark improvement over the potential hundreds of milliseconds reported by modern\\nCPU systems under similar conditions.\\n1 Introduction'}, vector=None, shard_key=None),\n",
       " ScoredPoint(id='27f5cce8-3f02-4ec1-aa48-daec6b8f7f51', version=0, score=0.86856097, payload={'page_content': 'ROS 2 on aChip , Achieving Brain-Like Speeds and\\nEfficiency in Robotic Networking\\nVíctor Mayoral-Vilches, Juan Manuel Reina-Muñoz,\\nMartiño Crespo Álvarez and David Mayoral-Vilches\\nAcceleration Robotics\\ncontact@accelerationrobotics.com\\nAbstract\\nThe Robot Operating System (ROS) pubsub model played a pivotal role in developing sophisticated\\nrobotic applications. However, the complexities and real-time demands of modern robotics necessitate'}, vector=None, shard_key=None),\n",
       " ScoredPoint(id='a2ebdabe-4473-4cb7-871d-11764f0a8e60', version=0, score=0.8638792, payload={'page_content': 'thousands-fold faster communications and better energy-efficiency, growing closer to the realm of hu-\\nman brain-like speeds and efficiency.\\nIn the fascinating realm of neuroscience, a single neuron firing an action potential in the human\\nbrain lasts approximately 2 to 5 milliseconds, consuming an incredibly minute amount of energy —\\nroughly 0.03 to 0.3 microjoules. These latencies and energy-efficiency set a benchmark that current'}, vector=None, shard_key=None),\n",
       " ScoredPoint(id='51c12832-9fb9-4415-8b4e-9e7ddfa92475', version=0, score=0.8539111, payload={'page_content': '1 Introduction\\nAs robots permeate various sectors - from healthcare to manufacturing - the need for swift and energy-\\nefficient communications becomes paramount. Traditional computational methods, including CPUs\\nand GPUs, are increasingly inadequate for real-time robotics networking communications due to their\\nunbounded intra- and inter-network communication constraints. Robot-specific circuitry can lead to'}, vector=None, shard_key=None),\n",
       " ScoredPoint(id='50863428-3296-4daa-8547-36c09bab9576', version=0, score=0.8339714, payload={'page_content': 'more efficient communication solutions that are deterministic and isochronous. This article introduces\\na groundbreaking approach: embedding ROS 2 message-passing infrastructure directly onto a special-\\nized hardware chip, significantly enhancing speed and efficiency in robotic communications. Our FPGA\\nprototypes of the chip design can send or receive packages in less than 2.5 microseconds, accelerat-\\ning networking communications by more than 62 ×on average and improving energy consumption'}, vector=None, shard_key=None)]"
      ]
     },
     "execution_count": 13,
     "metadata": {},
     "output_type": "execute_result"
    }
   ],
   "source": [
    "client.search(\n",
    "    collection_name=\"ros2\",\n",
    "    query_vector=(\"content\", embeddings.embed_documents([\"FPGA Platforms\"])[0]),\n",
    "    with_payload=[\"page_content\", \"source\"],\n",
    "    limit=5\n",
    ")"
   ]
  },
  {
   "cell_type": "code",
   "execution_count": 14,
   "id": "599128ed-995b-4400-9b5d-f65d4fb9e8c9",
   "metadata": {},
   "outputs": [],
   "source": [
    "vectorstore = Qdrant(client=client,\n",
    "                     collection_name=\"ros2\",\n",
    "                     embeddings=embeddings,\n",
    "                     vector_name=\"content\")"
   ]
  },
  {
   "cell_type": "code",
   "execution_count": 15,
   "id": "2eb11b72-5acf-47d6-adc9-aecaa464a7e7",
   "metadata": {},
   "outputs": [],
   "source": [
    "template = \"\"\"\n",
    "\n",
    "You are an assistant for question-answering tasks. \\\n",
    "Use the following pieces of retrieved context to answer the question. \\\n",
    "If you don't know the answer, just say that you don't know. \\\n",
    "\n",
    "\n",
    "Question: {input}\n",
    "Context: {context}\n",
    "\n",
    "Answer:\n",
    "\n",
    "\"\"\"\n",
    "\n",
    "retriever = vectorstore.as_retriever()"
   ]
  },
  {
   "cell_type": "code",
   "execution_count": 16,
   "id": "5d2396df-ebf5-4a76-802d-ffcb78d12fe8",
   "metadata": {},
   "outputs": [],
   "source": [
    "prompt = ChatPromptTemplate.from_template(template)\n",
    "handler =  StdOutCallbackHandler()\n"
   ]
  },
  {
   "cell_type": "code",
   "execution_count": 17,
   "id": "36836e58-b02d-4143-9c98-4804796e6d89",
   "metadata": {},
   "outputs": [],
   "source": [
    "combine_docs_chain = create_stuff_documents_chain(model, prompt)\n",
    "retrieval_chain = create_retrieval_chain(retriever, combine_docs_chain)"
   ]
  },
  {
   "cell_type": "code",
   "execution_count": 18,
   "id": "334c5cf1-fd74-492a-a4f8-bb93bb507b83",
   "metadata": {},
   "outputs": [],
   "source": [
    "result = retrieval_chain.invoke({\"input\": \"how to use FPGA\"})\n"
   ]
  },
  {
   "cell_type": "code",
   "execution_count": 19,
   "id": "9d5845f3-a6cc-479f-b52e-7f5270a9a855",
   "metadata": {},
   "outputs": [
    {
     "data": {
      "text/plain": [
       "{'input': 'how to use FPGA',\n",
       " 'context': [Document(page_content='thousands-fold faster communications and better energy-efficiency, growing closer to the realm of hu-\\nman brain-like speeds and efficiency.\\nIn the fascinating realm of neuroscience, a single neuron firing an action potential in the human\\nbrain lasts approximately 2 to 5 milliseconds, consuming an incredibly minute amount of energy —\\nroughly 0.03 to 0.3 microjoules. These latencies and energy-efficiency set a benchmark that current', metadata={'id': 'a2ebdabe-4473-4cb7-871d-11764f0a8e60', 'page': 0, 'page_content': 'thousands-fold faster communications and better energy-efficiency, growing closer to the realm of hu-\\nman brain-like speeds and efficiency.\\nIn the fascinating realm of neuroscience, a single neuron firing an action potential in the human\\nbrain lasts approximately 2 to 5 milliseconds, consuming an incredibly minute amount of energy —\\nroughly 0.03 to 0.3 microjoules. These latencies and energy-efficiency set a benchmark that current', 'source': 'ros2.pdf', '_id': 'a2ebdabe-4473-4cb7-871d-11764f0a8e60', '_collection_name': 'ros2'}),\n",
       "  Document(page_content='ROS 2 on aChip , Achieving Brain-Like Speeds and\\nEfficiency in Robotic Networking\\nVíctor Mayoral-Vilches, Juan Manuel Reina-Muñoz,\\nMartiño Crespo Álvarez and David Mayoral-Vilches\\nAcceleration Robotics\\ncontact@accelerationrobotics.com\\nAbstract\\nThe Robot Operating System (ROS) pubsub model played a pivotal role in developing sophisticated\\nrobotic applications. However, the complexities and real-time demands of modern robotics necessitate', metadata={'id': '27f5cce8-3f02-4ec1-aa48-daec6b8f7f51', 'page': 0, 'page_content': 'ROS 2 on aChip , Achieving Brain-Like Speeds and\\nEfficiency in Robotic Networking\\nVíctor Mayoral-Vilches, Juan Manuel Reina-Muñoz,\\nMartiño Crespo Álvarez and David Mayoral-Vilches\\nAcceleration Robotics\\ncontact@accelerationrobotics.com\\nAbstract\\nThe Robot Operating System (ROS) pubsub model played a pivotal role in developing sophisticated\\nrobotic applications. However, the complexities and real-time demands of modern robotics necessitate', 'source': 'ros2.pdf', '_id': '27f5cce8-3f02-4ec1-aa48-daec6b8f7f51', '_collection_name': 'ros2'}),\n",
       "  Document(page_content='1 Introduction\\nAs robots permeate various sectors - from healthcare to manufacturing - the need for swift and energy-\\nefficient communications becomes paramount. Traditional computational methods, including CPUs\\nand GPUs, are increasingly inadequate for real-time robotics networking communications due to their\\nunbounded intra- and inter-network communication constraints. Robot-specific circuitry can lead to', metadata={'id': '51c12832-9fb9-4415-8b4e-9e7ddfa92475', 'page': 0, 'page_content': '1 Introduction\\nAs robots permeate various sectors - from healthcare to manufacturing - the need for swift and energy-\\nefficient communications becomes paramount. Traditional computational methods, including CPUs\\nand GPUs, are increasingly inadequate for real-time robotics networking communications due to their\\nunbounded intra- and inter-network communication constraints. Robot-specific circuitry can lead to', 'source': 'ros2.pdf', '_id': '51c12832-9fb9-4415-8b4e-9e7ddfa92475', '_collection_name': 'ros2'}),\n",
       "  Document(page_content='ations. This advancement marks a significant leap forward in robotic communications, moving towards\\nmore efficient, reliable, and scalable robotic systems.\\n2 Background\\nIn the dynamic world of robotics, ROS emerges as a cornerstone for crafting complex robotic systems,\\nyet faces challenges in meeting the real-time and deterministic communication demands of contempo-\\nrary robotics. This backdrop fosters a shift towards FPGA-based solutions, aiming to enhance compute', metadata={'id': '955cd91d-7c3d-4e09-9a5e-01cdd798b724', 'page': 1, 'page_content': 'ations. This advancement marks a significant leap forward in robotic communications, moving towards\\nmore efficient, reliable, and scalable robotic systems.\\n2 Background\\nIn the dynamic world of robotics, ROS emerges as a cornerstone for crafting complex robotic systems,\\nyet faces challenges in meeting the real-time and deterministic communication demands of contempo-\\nrary robotics. This backdrop fosters a shift towards FPGA-based solutions, aiming to enhance compute', 'source': 'ros2.pdf', '_id': '955cd91d-7c3d-4e09-9a5e-01cdd798b724', '_collection_name': 'ros2'})],\n",
       " 'answer': \" To use an FPGA (Field Programmable Gate Array) in the context of achieving brain-like speeds and efficiency for ROS 2 on robotic networks, you would follow these steps:\\n\\n1. Understand your requirements: Analyze what functions or tasks need to be accelerated using an FPGA in order to enhance communication between robots. Consider factors such as latency, energy consumption, and real-time demands.\\n\\n2. Choose the right FPGA device: Select a suitable FPGA platform with adequate computational resources (e.g., logic elements, memory) based on your application's requirements. Popular FPGA vendors include Xilinx and Intel (formerly Altera).\\n\\n3. Familiarize yourself with hardware description languages (HDL): Learn to write HDL code in a language like VHDL or Verilog to design custom circuitry, such as data transfer protocols, filters, or other functions that can benefit your robotic application.\\n\\n4. Design and simulate the FPGA logic: Use electronic design automation (EDA) tools such as Vivado Design Suite by Xilinx or Quartus Prime by Intel to create your custom logic circuits in HDL, and then simulate their functionality using testbenches and simulation software.\\n\\n5. Synthesize the FPGA design: Convert your synthesized HDL code into a configuration file that can be loaded onto an FPGA device using tools provided by the chosen vendor (e.g., Xilinx's Vivado Design Suite or Intel'cu Quartus Prime).\\n\\n6. Embed ROS 2 on an FPGA: Integrate your custom-designed FPGA circuits with a ROS 2 framework to improve communication between robots. This can be achieved by implementing custom hardware abstraction layers (HAL) and utilizing appropriate middleware libraries that support FPGAs, such as ROCK Ridge or Xilinx's Vitis software development suite.\\n\\n7. Test your implementation: Evaluate the performance of your solution in real-world scenarios to ensure it meets desired objectives like latency reduction and energy efficiency improvements. Iteratively optimize and fine-tune your FPGA design as needed based on testing outcomes.\\n\\n8. Deploy and monitor: Once you are satisfied with the results, deploy your FPGA solution in a robotic network environment. Continuously monitor its performance to ensure it remains effective at achieving brain-like speeds and efficiency over time.\"}"
      ]
     },
     "execution_count": 19,
     "metadata": {},
     "output_type": "execute_result"
    }
   ],
   "source": [
    "result"
   ]
  },
  {
   "cell_type": "code",
   "execution_count": 20,
   "id": "740f42b9-4216-4f29-a526-229105c8e248",
   "metadata": {},
   "outputs": [
    {
     "data": {
      "text/plain": [
       "\" To use an FPGA (Field Programmable Gate Array) in the context of achieving brain-like speeds and efficiency for ROS 2 on robotic networks, you would follow these steps:\\n\\n1. Understand your requirements: Analyze what functions or tasks need to be accelerated using an FPGA in order to enhance communication between robots. Consider factors such as latency, energy consumption, and real-time demands.\\n\\n2. Choose the right FPGA device: Select a suitable FPGA platform with adequate computational resources (e.g., logic elements, memory) based on your application's requirements. Popular FPGA vendors include Xilinx and Intel (formerly Altera).\\n\\n3. Familiarize yourself with hardware description languages (HDL): Learn to write HDL code in a language like VHDL or Verilog to design custom circuitry, such as data transfer protocols, filters, or other functions that can benefit your robotic application.\\n\\n4. Design and simulate the FPGA logic: Use electronic design automation (EDA) tools such as Vivado Design Suite by Xilinx or Quartus Prime by Intel to create your custom logic circuits in HDL, and then simulate their functionality using testbenches and simulation software.\\n\\n5. Synthesize the FPGA design: Convert your synthesized HDL code into a configuration file that can be loaded onto an FPGA device using tools provided by the chosen vendor (e.g., Xilinx's Vivado Design Suite or Intel'cu Quartus Prime).\\n\\n6. Embed ROS 2 on an FPGA: Integrate your custom-designed FPGA circuits with a ROS 2 framework to improve communication between robots. This can be achieved by implementing custom hardware abstraction layers (HAL) and utilizing appropriate middleware libraries that support FPGAs, such as ROCK Ridge or Xilinx's Vitis software development suite.\\n\\n7. Test your implementation: Evaluate the performance of your solution in real-world scenarios to ensure it meets desired objectives like latency reduction and energy efficiency improvements. Iteratively optimize and fine-tune your FPGA design as needed based on testing outcomes.\\n\\n8. Deploy and monitor: Once you are satisfied with the results, deploy your FPGA solution in a robotic network environment. Continuously monitor its performance to ensure it remains effective at achieving brain-like speeds and efficiency over time.\""
      ]
     },
     "execution_count": 20,
     "metadata": {},
     "output_type": "execute_result"
    }
   ],
   "source": [
    "result[\"answer\"]"
   ]
  },
  {
   "cell_type": "code",
   "execution_count": null,
   "id": "dce09920-81cf-4cd8-8d04-3cb21a9c35ea",
   "metadata": {},
   "outputs": [],
   "source": []
  }
 ],
 "metadata": {
  "kernelspec": {
   "display_name": "llm",
   "language": "python",
   "name": "llm"
  },
  "language_info": {
   "codemirror_mode": {
    "name": "ipython",
    "version": 3
   },
   "file_extension": ".py",
   "mimetype": "text/x-python",
   "name": "python",
   "nbconvert_exporter": "python",
   "pygments_lexer": "ipython3",
   "version": "3.11.9"
  }
 },
 "nbformat": 4,
 "nbformat_minor": 5
}
